{
  "nbformat": 4,
  "nbformat_minor": 0,
  "metadata": {
    "colab": {
      "provenance": []
    },
    "kernelspec": {
      "name": "python3",
      "display_name": "Python 3"
    },
    "language_info": {
      "name": "python"
    }
  },
  "cells": [
    {
      "cell_type": "markdown",
      "source": [],
      "metadata": {
        "id": "Pen6rCiCC9Gw"
      }
    },
    {
      "cell_type": "code",
      "source": [
        "# 1.Explain the key features  of python  that  make it  a  popular  choice  for programming."
      ],
      "metadata": {
        "id": "WPDHbvb-DGaB"
      },
      "execution_count": null,
      "outputs": []
    },
    {
      "cell_type": "code",
      "source": [
        "'''Answer =>\n",
        "Key features of Python that make it a popular choice for programming are following :\n",
        "\n",
        "1.Easy to learn and use: Python has a simple and readable syntax, making it beginner-friendly.\n",
        "2 .Interpreted Language: Python executes code line by line, making debugging easier.\n",
        "3 .Dynamically Typed: Variable types are assigned during runtime, so there's no need to declare data types explicitly.\n",
        "4. Large Standard Library: Python provides many pre-built libraries for handling various tasks (e.g., file I/O, web development, databases).\n",
        "5 .Cross-Platform: Python can run on multiple platforms, such as Windows, macOS, and Linux.\n",
        "6 .Community Support: Python has extensive community support and documentation.'''\n"
      ],
      "metadata": {
        "id": "V6Hatlp7DNYS"
      },
      "execution_count": null,
      "outputs": []
    },
    {
      "cell_type": "code",
      "source": [
        "#2. Describe the  role  of predefined  keywords  in python  and provide  examples of how  they are used  in a  pogram"
      ],
      "metadata": {
        "id": "-rxksNLJDjaE"
      },
      "execution_count": null,
      "outputs": []
    },
    {
      "cell_type": "code",
      "source": [
        "'''Answer = Role of predefined keywords in Python:\n",
        "\n",
        "Predefined keywords in Python are reserved words that have a specific meaning and cannot be used as identifiers (variable names). Examples include:\n",
        "\n",
        "1. if, else: Used for conditional statements.\n",
        "2. for, while: Used for loops.\n",
        "3. def: Used to define a function.\n",
        "4. import: Used to import libraries or modules.\n",
        "5. return: Used to return a value from a function. '''\n"
      ],
      "metadata": {
        "id": "9tluvxz5D5u6"
      },
      "execution_count": null,
      "outputs": []
    },
    {
      "cell_type": "code",
      "source": [
        "# 3.Compare the contrast  muatable and immutable  objects  in python with examples ."
      ],
      "metadata": {
        "id": "f5vEoWTQEZmz"
      },
      "execution_count": null,
      "outputs": []
    },
    {
      "cell_type": "code",
      "source": [
        "# Answer = Mutable objects: Can be changed after creation. Examples include lists, dictionaries, and sets.\n",
        "#  example=\n",
        "my_list = [1, 2, 3]\n",
        "my_list[0] = 4  # Modifies the list\n",
        "print(my_list)\n",
        "# Immutable objects: Cannot be changed after creation. Examples include strings, tuples, and integers.\n",
        "\n",
        "# example =\n",
        "my_string = \"Hello\"\n",
        "my_string[0] = 'h'\n",
        "print(my_string)\n",
        " # This will raise an error because strings are immutable\n",
        "\n"
      ],
      "metadata": {
        "colab": {
          "base_uri": "https://localhost:8080/"
        },
        "id": "MTSLe47pElu-",
        "outputId": "530ecedd-d53f-4691-d5e0-7b08d60d8684"
      },
      "execution_count": 4,
      "outputs": [
        {
          "output_type": "stream",
          "name": "stdout",
          "text": [
            "[4, 2, 3]\n"
          ]
        }
      ]
    },
    {
      "cell_type": "code",
      "source": [
        "# 4.Discuss  the  different  types  of  operators in python  and  provide  examples  of how  they are used ."
      ],
      "metadata": {
        "id": "XHCFMd9xFb85"
      },
      "execution_count": null,
      "outputs": []
    },
    {
      "cell_type": "code",
      "source": [
        "# Answer =Types of operators in Python  are foloowing :\n",
        "\n",
        "# 1.Arithmetic operators: +, -, *, /, %, ** (exponent), // (floor division).\n",
        "# example =\n",
        "a = 10\n",
        "b = 3\n",
        "result = a + b  # 13\n",
        "\n",
        "# 2. Comparison operators: ==, !=, >, <, >=, <=.\n",
        "# example =\n",
        "a = 5\n",
        "b = 3\n",
        "print(a > b)  # True\n",
        "\n",
        "# 3.Logical operators: and, or, not.\n",
        "# example =\n",
        "\n",
        "a = True\n",
        "b = False\n",
        "print(a and b)  # False\n",
        "# 3.Assignment operators: =, +=, -=, *=, /=.\n",
        "# example =\n",
        "\n",
        "# Simple assignment (=):\n",
        "a = 10  # Assigns 10 to 'a'\n",
        "# Addition assignment (+=):\n",
        "a = 10\n",
        "a += 5  # Equivalent to a = a + 5\n",
        "print(a)  # Output: 15\n",
        "# Subtraction assignment (-=):\n",
        "b = 20\n",
        "b -= 3  # Equivalent to b = b - 3\n",
        "print(b)  # Output: 17\n",
        "# Multiplication assignment (*=):\n",
        "c = 7\n",
        "c *= 2  # Equivalent to c = c * 2\n",
        "print(c)  # Output: 14\n",
        "# Division assignment (/=):\n",
        "d = 50\n",
        "d /= 5  # Equivalent to d = d / 5\n",
        "print(d)  # Output: 10.0\n",
        "\n",
        "\n",
        "# 4.Bitwise operators: &, |, ^, ~, <<, >>.\n",
        "# example =\n",
        "\n",
        "# Bitwise AND (&):.\n",
        "a = 10  # In binary: 1010\n",
        "b = 4   # In binary: 0100\n",
        "result = a & b  # Bitwise AND: 0000 (0 in decimal)\n",
        "print(result)  # Output: 0\n",
        "# Bitwise OR (|):.\n",
        "a = 10  # In binary: 1010\n",
        "b = 4   # In binary: 0100\n",
        "result = a | b  # Bitwise OR: 1110 (14 in decimal)\n",
        "print(result)  # Output: 14\n",
        "# Bitwise XOR (^):\n",
        "a = 10  # In binary: 1010\n",
        "b = 4   # In binary: 0100\n",
        "result = a ^ b  # Bitwise XOR: 1110 (14 in decimal)\n",
        "print(result)  # Output: 14\n",
        "# Bitwise NOT (~):.\n",
        "a = 10  # In binary: 1010\n",
        "result = ~a  # Bitwise NOT: -(a + 1) -> -11 in decimal\n",
        "print(result)  # Output: -11\n",
        "# Bitwise left shift (<<):\n",
        "a = 5  # In binary: 101\n",
        "result = a << 2  # Left shift by 2 positions: 10100 (20 in decimal)\n",
        "print(result)  # Output: 20\n",
        "# Bitwise right shift (>>):\n",
        "a = 20  # In binary: 10100\n",
        "result = a >> 2  # Right shift by 2 positions: 101 (5 in decimal)\n",
        "print(result)  # Output: 5\n"
      ],
      "metadata": {
        "id": "qQDPbHVlFwRW"
      },
      "execution_count": null,
      "outputs": []
    },
    {
      "cell_type": "code",
      "source": [
        "# 5.  Explain the concept of type casting  in  python   with example ."
      ],
      "metadata": {
        "id": "cwB_SUZ_Hikb"
      },
      "execution_count": null,
      "outputs": []
    },
    {
      "cell_type": "code",
      "source": [
        "# Answer =Type casting is the process of converting one data type into another. In Python, this can be done explicitly using casting functions:\n",
        "\n",
        "# int(): Converts a value to an integer.\n",
        "# float(): Converts a value to a float.\n",
        "# str(): Converts a value to a string.\n",
        "\n",
        "# example =\n",
        "\n",
        "a = \"10\"\n",
        "b = int(a)  # Now 'b' is an integer with value 10\n"
      ],
      "metadata": {
        "id": "pERrs_kXH3yu"
      },
      "execution_count": 10,
      "outputs": []
    },
    {
      "cell_type": "code",
      "source": [
        "# 6.How  do conditional  statements   work in python?Illutstrate   with  examples ."
      ],
      "metadata": {
        "id": "yCHZKhsXIO5q"
      },
      "execution_count": null,
      "outputs": []
    },
    {
      "cell_type": "code",
      "source": [
        "# Answer =  Conditional statements allow decision-making in the program. The main conditional statements are:\n",
        "\n",
        "\n",
        "# examples\n",
        "# 1.if statement:\n",
        "\n",
        "if a > b:\n",
        "    print(\"a is greater than b\")\n",
        "# 2. if-else statement:.\n",
        "if a > b:\n",
        "    print(\"a is greater\")\n",
        "else:\n",
        "    print(\"b is greater\")\n",
        "\n",
        "# 3. if-elif-else statement:.\n",
        "if a > b:\n",
        "    print(\"a is greater\")\n",
        "elif a == b:\n",
        "    print(\"a is equal to b\")\n",
        "else:\n",
        "    print(\"b is greater\")\n"
      ],
      "metadata": {
        "id": "8g0bytN9Ic9J"
      },
      "execution_count": null,
      "outputs": []
    },
    {
      "cell_type": "code",
      "source": [
        "# 7. Describe  the  different  types   of loops  in python  and  use cases   with examples .\n"
      ],
      "metadata": {
        "id": "JUh9f-7jI2zL"
      },
      "execution_count": null,
      "outputs": []
    },
    {
      "cell_type": "code",
      "source": [
        "# Answer = There are different types  of loop  in python are following :\n",
        "# 1.for loop: Iterates over a sequence (like a list, tuple, string).\n",
        "# example .\n",
        "for i in range(5):\n",
        "    print(i)  # Prints 0 to 4\n",
        "\n",
        "\n",
        "# 2. while loop: Repeats a block of code as long as a condition is true.\n",
        "# example .\n",
        "i = 0\n",
        "while i < 5:\n",
        "    print(i)\n",
        "    i += 1  # Increments i by 1\n"
      ],
      "metadata": {
        "id": "WIoJPCG1JHzx"
      },
      "execution_count": null,
      "outputs": []
    }
  ]
}